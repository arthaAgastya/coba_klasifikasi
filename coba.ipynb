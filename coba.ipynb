{
  "nbformat": 4,
  "nbformat_minor": 0,
  "metadata": {
    "colab": {
      "name": "coba_mangga.ipynb",
      "version": "0.3.2",
      "provenance": [],
      "collapsed_sections": []
    },
    "kernelspec": {
      "name": "python3",
      "display_name": "Python 3"
    },
    "accelerator": "GPU"
  },
  "cells": [
    {
      "cell_type": "code",
      "metadata": {
        "id": "HLTAfDyRsGqb",
        "colab_type": "code",
        "colab": {}
      },
      "source": [
        "!wget https://3.bp.blogspot.com/-DA8qNzJ8fP4/VwY04YVsWtI/AAAAAAAAAsI/Mh5owb35KM4JulK0UYZikZjpwT4dgfGSA/s1600/DSC_8906.JPG -O mangga1.jpg"
      ],
      "execution_count": 0,
      "outputs": []
    },
    {
      "cell_type": "code",
      "metadata": {
        "id": "s4-A7HfWIDmt",
        "colab_type": "code",
        "colab": {}
      },
      "source": [
        "!wget --no-check-certificate 'https://docs.google.com/uc?export=download&id=1DbmzhhILEuZDczCpPHxI4i2XCjeTCAKJ' -O shallownet_weights_mangga.hdf5"
      ],
      "execution_count": 0,
      "outputs": []
    },
    {
      "cell_type": "code",
      "metadata": {
        "id": "Hzk6ySjGTfJO",
        "colab_type": "code",
        "colab": {}
      },
      "source": [
        "# Modify 'test1.jpg' and 'test2.jpg' to the images you want to predict on\n",
        "\n",
        "from keras.models import load_model\n",
        "from keras.preprocessing import image\n",
        "import numpy as np\n",
        "import cv2\n",
        "from google.colab.patches import cv2_imshow\n",
        "\n",
        "# dimensions of our images\n",
        "img_width, img_height = 128, 128\n",
        "\n",
        "# load the model we saved\n",
        "model = load_model('shallownet_weights_mangga.hdf5')\n"
      ],
      "execution_count": 0,
      "outputs": []
    },
    {
      "cell_type": "code",
      "metadata": {
        "id": "1zNygitjUs98",
        "colab_type": "code",
        "colab": {}
      },
      "source": [
        "classLabels = [\"apoderus_javanicus\", \"aulacaspis_tubercularis\", \"ceroplastes_rubens\", \"cisaberoptus_kenyae\", \n",
        "                                          \"dappula_tertia\", \"dialeuropora_decempuncta\", \"erosomyia_sp\", \"icerya_seychellarum\", \n",
        "                                          \"ischnaspis_longirostris\", \"mictis_longicornis\", \"neomelicharia_sparsa\", \"normal\", \"orthaga_euadrusalis\", \n",
        "                                          \"procontarinia_matteiana\", \"procontarinia_rubus\", \"valanga_nigricornis\"]"
      ],
      "execution_count": 0,
      "outputs": []
    },
    {
      "cell_type": "code",
      "metadata": {
        "id": "BHWVVlN3qc9K",
        "colab_type": "code",
        "colab": {}
      },
      "source": [
        "dim = (500,500)"
      ],
      "execution_count": 0,
      "outputs": []
    },
    {
      "cell_type": "code",
      "metadata": {
        "id": "cemPS9RwW0MI",
        "colab_type": "code",
        "colab": {}
      },
      "source": [
        "panda = cv2.imread('mangga1.jpg')\n",
        "panda = cv2.resize(panda, dim)"
      ],
      "execution_count": 0,
      "outputs": []
    },
    {
      "cell_type": "code",
      "metadata": {
        "id": "OAZzfHBYtdcA",
        "colab_type": "code",
        "colab": {}
      },
      "source": [
        "# predicting images\n",
        "img = image.load_img('mangga1.jpg', target_size=(img_width, img_height))\n",
        "x = image.img_to_array(img)\n",
        "x = np.expand_dims(x, axis=0)\n",
        "\n",
        "images = np.vstack([x])\n",
        "images = images.astype(np.float) / 255\n",
        "\n",
        "classes = model.predict_classes(images, batch_size=1)\n",
        "prob = model.predict(images, batch_size=1)\n",
        "print(classLabels[classes[0]])\n",
        "print(prob[0][classes[0]])\n",
        "cv2_imshow(panda)"
      ],
      "execution_count": 0,
      "outputs": []
    }
  ]
}
